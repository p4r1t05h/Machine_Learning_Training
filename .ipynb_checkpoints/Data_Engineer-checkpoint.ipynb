{
 "cells": [
  {
   "cell_type": "markdown",
   "id": "d6fe3a45-1d9d-4d1b-b959-7279412ce730",
   "metadata": {},
   "source": [
    "# Types of Data\n",
    "\n",
    "### 1. **Structured Data**\n",
    "   - **Relational Database Data**: \n",
    "     - **Example**: A SQL database containing tables like `Customers`, `Orders`, and `Products`.\n",
    "     - **Columns**: `CustomerID`, `OrderID`, `ProductID`, `OrderDate`, `Quantity`, `Price`.\n",
    "   - **CSV Files**:\n",
    "     - **Example**: A CSV file with employee records.\n",
    "     - **Columns**: `EmployeeID`, `Name`, `Department`, `Salary`, `HireDate`.\n",
    "\n",
    "### 2. **Semi-Structured Data**\n",
    "   - **JSON Data**:\n",
    "     - **Example**: A JSON file containing user profiles.\n",
    "     - **Structure**:\n",
    "       ```json\n",
    "       {\n",
    "         \"user_id\": \"123\",\n",
    "         \"name\": \"John Doe\",\n",
    "         \"preferences\": {\n",
    "           \"color\": \"blue\",\n",
    "           \"food\": \"pizza\"\n",
    "         },\n",
    "         \"purchase_history\": [\n",
    "           {\"product_id\": \"001\", \"date\": \"2023-01-01\", \"amount\": 25.5},\n",
    "           {\"product_id\": \"002\", \"date\": \"2023-02-14\", \"amount\": 15.0}\n",
    "         ]\n",
    "       }\n",
    "       ```\n",
    "   - **XML Data**:\n",
    "     - **Example**: An XML file containing book information.\n",
    "     - **Structure**:\n",
    "       ```xml\n",
    "       <book>\n",
    "         <title>Data Engineering 101</title>\n",
    "         <author>Jane Smith</author>\n",
    "         <published>2021-05-10</published>\n",
    "         <price>39.99</price>\n",
    "       </book>\n",
    "       ```\n",
    "\n",
    "### 3. **Unstructured Data**\n",
    "   - **Text Files**:\n",
    "     - **Example**: A collection of text files with raw customer feedback.\n",
    "     - **Content**: \n",
    "       ```\n",
    "       \"The product is great but the delivery was slow.\"\n",
    "       \"I love the new features in the latest update!\"\n",
    "       ```\n",
    "   - **Log Files**:\n",
    "     - **Example**: Server logs capturing user activities.\n",
    "     - **Content**:\n",
    "       ```\n",
    "       2023-08-13 10:22:34, UserID: 123, Action: Login\n",
    "       2023-08-13 10:23:01, UserID: 123, Action: Viewed Product, ProductID: 456\n",
    "       ```\n",
    "\n",
    "### 4. **Time-Series Data**\n",
    "   - **Sensor Data**:\n",
    "     - **Example**: Data from IoT sensors monitoring temperature and humidity.\n",
    "     - **Columns**: `Timestamp`, `SensorID`, `Temperature`, `Humidity`.\n",
    "     - **Sample**:\n",
    "       ```\n",
    "       2023-08-13 10:00:00, Sensor_01, 25.4, 60\n",
    "       2023-08-13 10:05:00, Sensor_01, 25.7, 58\n",
    "       ```\n",
    "   - **Financial Data**:\n",
    "     - **Example**: Stock price data.\n",
    "     - **Columns**: `Timestamp`, `StockSymbol`, `OpenPrice`, `ClosePrice`, `Volume`.\n",
    "     - **Sample**:\n",
    "       ```\n",
    "       2023-08-13 09:30:00, AAPL, 145.6, 147.3, 50000\n",
    "       2023-08-13 09:45:00, AAPL, 147.3, 148.0, 62000\n",
    "       ```\n",
    "\n",
    "### 5. **Graph Data**\n",
    "   - **Social Network Data**:\n",
    "     - **Example**: A graph dataset representing a social network.\n",
    "     - **Nodes**: Users.\n",
    "     - **Edges**: Friend relationships.\n",
    "     - **Structure**:\n",
    "       ```json\n",
    "       {\n",
    "         \"nodes\": [\n",
    "           {\"user_id\": \"123\", \"name\": \"Alice\"},\n",
    "           {\"user_id\": \"124\", \"name\": \"Bob\"}\n",
    "         ],\n",
    "         \"edges\": [\n",
    "           {\"from\": \"123\", \"to\": \"124\", \"type\": \"friend\"}\n",
    "         ]\n",
    "       }\n",
    "       ```\n",
    "\n",
    "### 6. **Geospatial Data**\n",
    "   - **Location Data**:\n",
    "     - **Example**: GPS coordinates of delivery trucks.\n",
    "     - **Columns**: `TruckID`, `Latitude`, `Longitude`, `Timestamp`.\n",
    "     - **Sample**:\n",
    "       ```\n",
    "       TRK_001, 40.7128, -74.0060, 2023-08-13 08:00:00\n",
    "       TRK_002, 34.0522, -118.2437, 2023-08-13 08:05:00\n",
    "       ```\n",
    "\n",
    "### 7. **Image Data**\n",
    "   - **Image Files**:\n",
    "     - **Example**: A dataset of labeled images for computer vision tasks.\n",
    "     - **Structure**: \n",
    "       - `Image`: A file representing the image.\n",
    "       - `Label`: A category label for the image (e.g., \"cat\", \"dog\").\n",
    "     - **File**: `image_001.jpg` with label `cat`.\n",
    "\n",
    "### 8. **Audio Data**\n",
    "   - **Audio Files**:\n",
    "     - **Example**: A collection of audio recordings for speech recognition.\n",
    "     - **Files**: `audio_001.wav`, `audio_002.wav`.\n",
    "     - **Metadata**: \n",
    "       - `Duration`: Length of the audio.\n",
    "       - `Transcript`: Text transcription of the speech.\n",
    "\n",
    "### 9. **Video Data**\n",
    "   - **Video Files**:\n",
    "     - **Example**: Security camera footage.\n",
    "     - **Files**: `video_001.mp4`.\n",
    "     - **Metadata**: \n",
    "       - `Duration`: Length of the video.\n",
    "       - `Timestamp`: When the video was recorded.\n",
    "\n",
    "### 10. **Streaming Data**\n",
    "   - **Real-Time Data Streams**:\n",
    "     - **Example**: Real-time tweets from Twitter API.\n",
    "     - **Structure**: JSON objects with fields like `tweet_id`, `user_id`, `timestamp`, `text`.\n",
    "\n",
    "These examples can help students understand how to handle, process, and analyze different types of data in various data engineering contexts."
   ]
  },
  {
   "cell_type": "markdown",
   "id": "1d68f8a7-fd3c-4e43-bb22-007c2b5b9182",
   "metadata": {},
   "source": [
    "# XML"
   ]
  },
  {
   "cell_type": "code",
   "execution_count": 3,
   "id": "40f4c8cb-c477-4fb2-94aa-bb29e3ecdaa9",
   "metadata": {},
   "outputs": [],
   "source": [
    "import requests\n",
    "from bs4 import BeautifulSoup"
   ]
  },
  {
   "cell_type": "code",
   "execution_count": 5,
   "id": "381e4059-a6b5-4135-8b45-896a54a4126b",
   "metadata": {},
   "outputs": [
    {
     "name": "stdout",
     "output_type": "stream",
     "text": [
      "Failed to fetch the web page. Status code: 403\n"
     ]
    }
   ],
   "source": [
    "# URL of IMDb's Top 250 movies page\n",
    "url = \"https://www.imdb.com/chart/top/?ref_=nv_mv_250\"\n",
    "\n",
    "# Send a GET request to the webpage\n",
    "response = requests.get(url)\n",
    "\n",
    "# Check if the request was successful\n",
    "if response.status_code == 200:\n",
    "    print(\"Successfully fetched the web page\")\n",
    "else:\n",
    "    print(f\"Failed to fetch the web page. Status code: {response.status_code}\")\n"
   ]
  },
  {
   "cell_type": "code",
   "execution_count": 6,
   "id": "b0130fbb-6d8b-4cdc-aa32-d76e45e5c18c",
   "metadata": {},
   "outputs": [],
   "source": [
    "# Parse the content of the page\n",
    "soup = BeautifulSoup(response.content, 'html.parser')\n"
   ]
  },
  {
   "cell_type": "code",
   "execution_count": null,
   "id": "12145735-22de-4ee4-9239-83b346e6be69",
   "metadata": {},
   "outputs": [],
   "source": [
    "# Find the table that contains the movie data\n",
    "movies_table = soup.find('tbody', class_='lister-list')\n",
    "\n",
    "# Extract the list of movies\n",
    "movies = movies_table.find_all('tr')\n",
    "\n",
    "# Initialize an empty list to store movie details\n",
    "top_movies = []\n",
    "\n",
    "# Loop through the first 10 movies\n",
    "for movie in movies[:10]:\n",
    "    # Get the movie title\n",
    "    title_column = movie.find('td', class_='titleColumn')\n",
    "    title = title_column.a.text.strip()\n",
    "\n",
    "    # Get the release year\n",
    "    year = title_column.span.text.strip('()')\n",
    "\n",
    "    # Get the IMDb rating\n",
    "    rating_column = movie.find('td', class_='ratingColumn imdbRating')\n",
    "    rating = rating_column.strong.text.strip()\n",
    "\n",
    "    # Store the movie details in a dictionary\n",
    "    movie_details = {\n",
    "        'title': title,\n",
    "        'year': year,\n",
    "        'rating': rating\n",
    "    }\n",
    "\n",
    "    # Add the movie details to the list\n",
    "    top_movies.append(movie_details)\n",
    "\n",
    "# Print out the scraped movie data\n",
    "for idx, movie in enumerate(top_movies, start=1):\n",
    "    print(f\"{idx}. {movie['title']} ({movie['year']}) - Rating: {movie['rating']}\")\n"
   ]
  },
  {
   "cell_type": "markdown",
   "id": "727d6f9e-534a-44f1-97fb-e301e1f40bd4",
   "metadata": {},
   "source": [
    "# JSON Data"
   ]
  },
  {
   "cell_type": "code",
   "execution_count": 8,
   "id": "ec65abb5-34e5-40f9-839a-2f40af355df8",
   "metadata": {},
   "outputs": [
    {
     "ename": "FileNotFoundError",
     "evalue": "[Errno 2] No such file or directory: 'data.json'",
     "output_type": "error",
     "traceback": [
      "\u001b[0;31m---------------------------------------------------------------------------\u001b[0m",
      "\u001b[0;31mFileNotFoundError\u001b[0m                         Traceback (most recent call last)",
      "Cell \u001b[0;32mIn[8], line 2\u001b[0m\n\u001b[1;32m      1\u001b[0m \u001b[38;5;66;03m# Load JSON data from a file\u001b[39;00m\n\u001b[0;32m----> 2\u001b[0m \u001b[38;5;28;01mwith\u001b[39;00m \u001b[38;5;28;43mopen\u001b[39;49m\u001b[43m(\u001b[49m\u001b[38;5;124;43m'\u001b[39;49m\u001b[38;5;124;43mdata.json\u001b[39;49m\u001b[38;5;124;43m'\u001b[39;49m\u001b[43m,\u001b[49m\u001b[43m \u001b[49m\u001b[38;5;124;43m'\u001b[39;49m\u001b[38;5;124;43mr\u001b[39;49m\u001b[38;5;124;43m'\u001b[39;49m\u001b[43m)\u001b[49m \u001b[38;5;28;01mas\u001b[39;00m file:\n\u001b[1;32m      3\u001b[0m     data \u001b[38;5;241m=\u001b[39m json\u001b[38;5;241m.\u001b[39mload(file)\n",
      "File \u001b[0;32m~/Desktop/EXLgenAI/lib/python3.9/site-packages/IPython/core/interactiveshell.py:310\u001b[0m, in \u001b[0;36m_modified_open\u001b[0;34m(file, *args, **kwargs)\u001b[0m\n\u001b[1;32m    303\u001b[0m \u001b[38;5;28;01mif\u001b[39;00m file \u001b[38;5;129;01min\u001b[39;00m {\u001b[38;5;241m0\u001b[39m, \u001b[38;5;241m1\u001b[39m, \u001b[38;5;241m2\u001b[39m}:\n\u001b[1;32m    304\u001b[0m     \u001b[38;5;28;01mraise\u001b[39;00m \u001b[38;5;167;01mValueError\u001b[39;00m(\n\u001b[1;32m    305\u001b[0m         \u001b[38;5;124mf\u001b[39m\u001b[38;5;124m\"\u001b[39m\u001b[38;5;124mIPython won\u001b[39m\u001b[38;5;124m'\u001b[39m\u001b[38;5;124mt let you open fd=\u001b[39m\u001b[38;5;132;01m{\u001b[39;00mfile\u001b[38;5;132;01m}\u001b[39;00m\u001b[38;5;124m by default \u001b[39m\u001b[38;5;124m\"\u001b[39m\n\u001b[1;32m    306\u001b[0m         \u001b[38;5;124m\"\u001b[39m\u001b[38;5;124mas it is likely to crash IPython. If you know what you are doing, \u001b[39m\u001b[38;5;124m\"\u001b[39m\n\u001b[1;32m    307\u001b[0m         \u001b[38;5;124m\"\u001b[39m\u001b[38;5;124myou can use builtins\u001b[39m\u001b[38;5;124m'\u001b[39m\u001b[38;5;124m open.\u001b[39m\u001b[38;5;124m\"\u001b[39m\n\u001b[1;32m    308\u001b[0m     )\n\u001b[0;32m--> 310\u001b[0m \u001b[38;5;28;01mreturn\u001b[39;00m \u001b[43mio_open\u001b[49m\u001b[43m(\u001b[49m\u001b[43mfile\u001b[49m\u001b[43m,\u001b[49m\u001b[43m \u001b[49m\u001b[38;5;241;43m*\u001b[39;49m\u001b[43margs\u001b[49m\u001b[43m,\u001b[49m\u001b[43m \u001b[49m\u001b[38;5;241;43m*\u001b[39;49m\u001b[38;5;241;43m*\u001b[39;49m\u001b[43mkwargs\u001b[49m\u001b[43m)\u001b[49m\n",
      "\u001b[0;31mFileNotFoundError\u001b[0m: [Errno 2] No such file or directory: 'data.json'"
     ]
    }
   ],
   "source": [
    "# Load JSON data from a file\n",
    "with open('data.json', 'r') as file:\n",
    "    data = json.load(file)\n"
   ]
  },
  {
   "cell_type": "code",
   "execution_count": 9,
   "id": "cc7fd19b-9933-4012-a144-baec94f36ad7",
   "metadata": {},
   "outputs": [
    {
     "ename": "NameError",
     "evalue": "name 'json' is not defined",
     "output_type": "error",
     "traceback": [
      "\u001b[0;31m---------------------------------------------------------------------------\u001b[0m",
      "\u001b[0;31mNameError\u001b[0m                                 Traceback (most recent call last)",
      "Cell \u001b[0;32mIn[9], line 10\u001b[0m\n\u001b[1;32m      1\u001b[0m json_data \u001b[38;5;241m=\u001b[39m \u001b[38;5;124m'''\u001b[39m\u001b[38;5;124m{\u001b[39m\n\u001b[1;32m      2\u001b[0m \u001b[38;5;124m    \u001b[39m\u001b[38;5;124m\"\u001b[39m\u001b[38;5;124memployees\u001b[39m\u001b[38;5;124m\"\u001b[39m\u001b[38;5;124m: [\u001b[39m\n\u001b[1;32m      3\u001b[0m \u001b[38;5;124m        \u001b[39m\u001b[38;5;124m{\u001b[39m\u001b[38;5;124m\"\u001b[39m\u001b[38;5;124mname\u001b[39m\u001b[38;5;124m\"\u001b[39m\u001b[38;5;124m: \u001b[39m\u001b[38;5;124m\"\u001b[39m\u001b[38;5;124mJohn Doe\u001b[39m\u001b[38;5;124m\"\u001b[39m\u001b[38;5;124m, \u001b[39m\u001b[38;5;124m\"\u001b[39m\u001b[38;5;124mage\u001b[39m\u001b[38;5;124m\"\u001b[39m\u001b[38;5;124m: 30, \u001b[39m\u001b[38;5;124m\"\u001b[39m\u001b[38;5;124mdepartment\u001b[39m\u001b[38;5;124m\"\u001b[39m\u001b[38;5;124m: \u001b[39m\u001b[38;5;124m\"\u001b[39m\u001b[38;5;124mEngineering\u001b[39m\u001b[38;5;124m\"\u001b[39m\u001b[38;5;124m},\u001b[39m\n\u001b[0;32m   (...)\u001b[0m\n\u001b[1;32m      6\u001b[0m \u001b[38;5;124m    ]\u001b[39m\n\u001b[1;32m      7\u001b[0m \u001b[38;5;124m}\u001b[39m\u001b[38;5;124m'''\u001b[39m\n\u001b[1;32m      9\u001b[0m \u001b[38;5;66;03m# Load JSON data from a string\u001b[39;00m\n\u001b[0;32m---> 10\u001b[0m data \u001b[38;5;241m=\u001b[39m \u001b[43mjson\u001b[49m\u001b[38;5;241m.\u001b[39mloads(json_data)\n",
      "\u001b[0;31mNameError\u001b[0m: name 'json' is not defined"
     ]
    }
   ],
   "source": [
    "json_data = '''{\n",
    "    \"employees\": [\n",
    "        {\"name\": \"John Doe\", \"age\": 30, \"department\": \"Engineering\"},\n",
    "        {\"name\": \"Jane Smith\", \"age\": 25, \"department\": \"Marketing\"},\n",
    "        {\"name\": \"Mike Johnson\", \"age\": \"N/A\", \"department\": \"Sales\"}\n",
    "    ]\n",
    "}'''\n",
    "\n",
    "# Load JSON data from a string\n",
    "data = json.loads(json_data)\n"
   ]
  },
  {
   "cell_type": "code",
   "execution_count": null,
   "id": "fe29a0f9-117b-4fd7-b0cc-97107b1cc746",
   "metadata": {},
   "outputs": [],
   "source": [
    "# Assuming the JSON data is a dictionary with a list of dictionaries as one of its values\n",
    "df = pd.DataFrame(data['employees'])\n"
   ]
  },
  {
   "cell_type": "code",
   "execution_count": null,
   "id": "81b0199a-a54e-4d9a-b7c0-42515fee800a",
   "metadata": {},
   "outputs": [],
   "source": [
    "df.replace({\"N/A\": None, \"\": None}, inplace=True)\n"
   ]
  },
  {
   "cell_type": "code",
   "execution_count": null,
   "id": "aec2bda8-31f1-4e55-86de-2b77e39001a5",
   "metadata": {},
   "outputs": [],
   "source": [
    "df['age'] = pd.to_numeric(df['age'], errors='coerce')\n"
   ]
  },
  {
   "cell_type": "code",
   "execution_count": null,
   "id": "8a2e6126-c3ac-401f-b97d-82d0d12dd2a4",
   "metadata": {},
   "outputs": [],
   "source": [
    "df.dropna(inplace=True)\n"
   ]
  },
  {
   "cell_type": "code",
   "execution_count": null,
   "id": "f16c1800-1bf4-4737-b59a-67905be0e37d",
   "metadata": {},
   "outputs": [],
   "source": [
    "df.rename(columns={'name': 'full_name', 'department': 'dept'}, inplace=True)\n"
   ]
  },
  {
   "cell_type": "code",
   "execution_count": null,
   "id": "b4be9455-6af1-4974-bac0-bbd94d338497",
   "metadata": {},
   "outputs": [],
   "source": [
    "df = df[df['age'] > 25]\n"
   ]
  },
  {
   "cell_type": "code",
   "execution_count": null,
   "id": "ed8b515b-2de3-48d9-90c7-4159f7faccd9",
   "metadata": {},
   "outputs": [],
   "source": [
    "# Save the cleaned DataFrame to a new JSON file\n",
    "df.to_json('cleaned_data.json', orient='records', indent=4)\n",
    "\n",
    "# Or save as a CSV file\n",
    "df.to_csv('cleaned_data.csv', index=False)\n"
   ]
  },
  {
   "cell_type": "code",
   "execution_count": null,
   "id": "b9854ca3-1331-4580-894d-b4649829cf7a",
   "metadata": {},
   "outputs": [],
   "source": []
  }
 ],
 "metadata": {
  "kernelspec": {
   "display_name": "EXLgenAI",
   "language": "python",
   "name": "exlgenai"
  },
  "language_info": {
   "codemirror_mode": {
    "name": "ipython",
    "version": 3
   },
   "file_extension": ".py",
   "mimetype": "text/x-python",
   "name": "python",
   "nbconvert_exporter": "python",
   "pygments_lexer": "ipython3",
   "version": "3.9.6"
  }
 },
 "nbformat": 4,
 "nbformat_minor": 5
}
